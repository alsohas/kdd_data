{
 "cells": [
  {
   "cell_type": "code",
   "execution_count": 77,
   "metadata": {},
   "outputs": [],
   "source": [
    "import dask\n",
    "import dask.dataframe as dd\n",
    "import uuid\n",
    "\n",
    "import pandas as pd\n",
    "import numpy as np\n",
    "import os"
   ]
  },
  {
   "cell_type": "code",
   "execution_count": 78,
   "metadata": {},
   "outputs": [],
   "source": [
    "data_folder = '/run/media/ai/drive25/archives/didi/src/scripts/fake_gps/'\n",
    "out_folder = '../clean_gps/'"
   ]
  },
  {
   "cell_type": "code",
   "execution_count": 79,
   "metadata": {},
   "outputs": [],
   "source": [
    "def csvfy():\n",
    "    os.system(f'mkdir {out_folder}')  # make the output folder if it doesn't exist\n",
    "    files = os.listdir(data_folder)\n",
    "    cols = ['DRIVER_ID', 'TRIP_ID', 'TIMESTAMP', 'LONGITUDE', 'LATITUDE']\n",
    "\n",
    "    for i, f in enumerate(files):\n",
    "        csvfy_aux(f, i, cols)"
   ]
  },
  {
   "cell_type": "code",
   "execution_count": 80,
   "metadata": {},
   "outputs": [],
   "source": [
    "def process_group(lng, lat):\n",
    "    lonlat =  set(zip(lng, lat))\n",
    "    return lonlat"
   ]
  },
  {
   "cell_type": "code",
   "execution_count": 81,
   "metadata": {},
   "outputs": [],
   "source": [
    "def csvfy_aux(f, i, cols):\n",
    "    df = dask.dataframe.read_csv(os.path.join(data_folder, f), names=cols)\n",
    "    df = df.drop(columns=['DRIVER_ID'], axis=1)\n",
    "    df = df.set_index('TIMESTAMP').persist()\n",
    "    \n",
    "    ndf = df.groupby('TRIP_ID').apply(lambda x: process_group(x.LONGITUDE, x.LATITUDE)).to_frame(name='POLYLINE').reset_index()\n",
    "    ndf.to_csv(os.path.join(out_folder, f), index=False)"
   ]
  },
  {
   "cell_type": "code",
   "execution_count": 82,
   "metadata": {},
   "outputs": [
    {
     "name": "stderr",
     "output_type": "stream",
     "text": [
      "<ipython-input-81-cadb98dfeb1d>:6: UserWarning: `meta` is not specified, inferred from partial data. Please provide `meta` if the result is unexpected.\n",
      "  Before: .apply(func)\n",
      "  After:  .apply(func, meta={'x': 'f8', 'y': 'f8'}) for dataframe result\n",
      "  or:     .apply(func, meta=('x', 'f8'))            for series result\n",
      "  ndf = df.groupby('TRIP_ID').apply(lambda x: process_group(x.LONGITUDE, x.LATITUDE)).to_frame(name='POLYLINE').reset_index()\n"
     ]
    }
   ],
   "source": [
    "csvfy()"
   ]
  },
  {
   "cell_type": "code",
   "execution_count": null,
   "metadata": {},
   "outputs": [],
   "source": []
  }
 ],
 "metadata": {
  "kernelspec": {
   "display_name": "Python 3",
   "language": "python",
   "name": "python3"
  },
  "language_info": {
   "codemirror_mode": {
    "name": "ipython",
    "version": 3
   },
   "file_extension": ".py",
   "mimetype": "text/x-python",
   "name": "python",
   "nbconvert_exporter": "python",
   "pygments_lexer": "ipython3",
   "version": "3.8.5"
  }
 },
 "nbformat": 4,
 "nbformat_minor": 4
}
