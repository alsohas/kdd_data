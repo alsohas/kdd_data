{
 "cells": [
  {
   "cell_type": "code",
   "execution_count": 56,
   "metadata": {},
   "outputs": [],
   "source": [
    "import numpy as np\n",
    "import pandas as pd\n",
    "import os\n",
    "\n",
    "data_folder = '../tts'\n",
    "out_folder = '../tts'"
   ]
  },
  {
   "cell_type": "code",
   "execution_count": 57,
   "metadata": {},
   "outputs": [],
   "source": [
    "def csvfy():\n",
    "    files = os.listdir(data_folder)\n",
    "    cols = ['DRIVER_ID', 'TRIP_ID', 'TIMESTAMP', 'LONGITUDE', 'LATITUDE']\n",
    "\n",
    "    for f in files:\n",
    "        df = pd.read_csv(os.path.join(data_folder, f), names=cols)\n",
    "        df = df.drop(columns=['DRIVER_ID'], axis=1)\n",
    "        df = df.sort_values(['TIMESTAMP'],ascending=True).groupby('TRIP_ID')\n",
    "        print(len(df))\n",
    "        dfs = pd.DataFrame(columns=['TRIP_ID','TIME_DELTA', 'POLYLINE'])\n",
    "        \n",
    "        for name, group in df:\n",
    "            _df = group.reset_index()\n",
    "            coords = []\n",
    "            times = []\n",
    "            for index, row in _df.iterrows():\n",
    "                coords.append([row['LONGITUDE'], row['LATITUDE']])\n",
    "                times.append(row['TIMESTAMP'])\n",
    "            times = np.diff(np.array(times))\n",
    "            times = sum(times)/len(times)\n",
    "            dfs.loc[len(dfs)] = [name, times, coords]\n",
    "#             return dfs\n",
    "        \n",
    "        dfs.to_csv(os.path.join(out_folder, f'{f}.csv'), index=False)\n",
    "#         os.system(f'rm {os.path.join(data_folder, f)}')"
   ]
  },
  {
   "cell_type": "code",
   "execution_count": 58,
   "metadata": {},
   "outputs": [
    {
     "name": "stdout",
     "output_type": "stream",
     "text": [
      "56\n"
     ]
    }
   ],
   "source": [
    "csvfy()"
   ]
  },
  {
   "cell_type": "code",
   "execution_count": null,
   "metadata": {},
   "outputs": [],
   "source": []
  }
 ],
 "metadata": {
  "kernelspec": {
   "display_name": "Python 3",
   "language": "python",
   "name": "python3"
  },
  "language_info": {
   "codemirror_mode": {
    "name": "ipython",
    "version": 3
   },
   "file_extension": ".py",
   "mimetype": "text/x-python",
   "name": "python",
   "nbconvert_exporter": "python",
   "pygments_lexer": "ipython3",
   "version": "3.8.5"
  }
 },
 "nbformat": 4,
 "nbformat_minor": 4
}
